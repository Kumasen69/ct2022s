{
  "nbformat": 4,
  "nbformat_minor": 0,
  "metadata": {
    "colab": {
      "name": "新版 zi2zi.ipynb",
      "provenance": [],
      "collapsed_sections": [
        "-OzPBAJHTqiu"
      ],
      "toc_visible": true
    },
    "kernelspec": {
      "name": "python3",
      "display_name": "Python 3"
    },
    "language_info": {
      "name": "python"
    }
  },
  "cells": [
    {
      "cell_type": "markdown",
      "metadata": {
        "id": "nTps7Ej1w80x"
      },
      "source": [
        "zi2zi: Master Chinese Calligraphy with Conditional Adversarial Networks\n"
      ]
    },
    {
      "cell_type": "markdown",
      "source": [
        "### 步驟一與步驟二"
      ],
      "metadata": {
        "id": "-OzPBAJHTqiu"
      }
    },
    {
      "cell_type": "markdown",
      "source": [
        "#### 連接 google drive 並確認 workspace."
      ],
      "metadata": {
        "id": "dVrVQZw82t97"
      }
    },
    {
      "cell_type": "code",
      "source": [
        "import os\n",
        "from google.colab import drive\n",
        "drive.mount('/content/drive')\n",
        "\n",
        "workspace = 'ct2022s'\n",
        "\n",
        "# Try to aceess your workspace, or create it.\n",
        "try:\n",
        "  os.chdir(os.path.join('/content/drive/MyDrive/', workspace))\n",
        "except:\n",
        "  os.mkdir(os.path.join('/content/drive/MyDrive/', workspace))\n",
        "  os.chdir(os.path.join('/content/drive/MyDrive/', workspace))"
      ],
      "metadata": {
        "id": "FaPw3TavwTBv"
      },
      "execution_count": null,
      "outputs": []
    },
    {
      "cell_type": "markdown",
      "source": [
        "#### 確認環境並下載 zi2zi 專案📡"
      ],
      "metadata": {
        "id": "bc3EeQ_qOIxv"
      }
    },
    {
      "cell_type": "code",
      "metadata": {
        "id": "0oA-eCwtEM8D"
      },
      "source": [
        "%tensorflow_version 1.x\n",
        "!pip install scipy==1.2.1\n",
        "!git clone https://github.com/t110598009/zi2zi.git\n",
        "# Acess zi2zi\n",
        "os.chdir('zi2zi')"
      ],
      "execution_count": null,
      "outputs": []
    },
    {
      "cell_type": "markdown",
      "metadata": {
        "id": "LhNl9fyE2mY_"
      },
      "source": [
        "### 步驟三: 訓練前處理 (產生資料)\n",
        "\n",
        "To avoid IO bottleneck, preprocessing is necessary to pickle your data into binary and persist in memory during training.\n",
        "\n",
        "First run the below command to get the font images:  \n",
        "```\n",
        "python font2img.py --src_font=font/'source font' --dst_font=font/'Target font' --charset=CN_T  --sample_count=1000 --sample_dir='Your sample dir' --label=0  --filter=1 --shuffle=1\n",
        "```"
      ]
    },
    {
      "cell_type": "markdown",
      "metadata": {
        "id": "fq_YoF-DyaS7"
      },
      "source": [
        "#### 建立欲訓練或驗證的圖片"
      ]
    },
    {
      "cell_type": "code",
      "source": [
        "# 建立 sample 資料夾\n",
        "!mkdir image_train\n",
        "!mkdir image_val"
      ],
      "metadata": {
        "id": "le88m-g60GNH"
      },
      "execution_count": null,
      "outputs": []
    },
    {
      "cell_type": "code",
      "metadata": {
        "id": "LygvPmgu2zxt"
      },
      "source": [
        "!python font2img.py --src_font=font/NotoSansTC-Black.otf --dst_font=font/setofont.ttf --charset=TWTrain  --sample_count=1000 --sample_dir=image_train --label=1 --filter=1 --shuffle=1\n",
        "!python font2img.py --src_font=font/NotoSansTC-Black.otf --dst_font=font/setofont.ttf --charset=TWVal  --sample_count=670 --sample_dir=image_val --label=1 --filter=1 --shuffle=0\n"
      ],
      "execution_count": null,
      "outputs": []
    },
    {
      "cell_type": "markdown",
      "metadata": {
        "id": "NY4UKL1K3Sae"
      },
      "source": [
        "#### 建立訓練、驗證資料 object\n",
        "After obtaining all images, run package.py to pickle the images and their corresponding labels into binary format:\n",
        "\n",
        "跑完後會得到 train.obj and val.obj 在 save_dir 資料夾。"
      ]
    },
    {
      "cell_type": "code",
      "source": [
        "!python package.py --dir=image_train --save_dir=experiment/data --split_ratio=0.1"
      ],
      "metadata": {
        "id": "aWFYOnclJ3EV"
      },
      "execution_count": null,
      "outputs": []
    },
    {
      "cell_type": "code",
      "source": [
        "!python package.py --dir=image_val --save_dir=experiment/data/val --split_ratio=1"
      ],
      "metadata": {
        "id": "yLGHoHzn5VDT"
      },
      "execution_count": null,
      "outputs": []
    },
    {
      "cell_type": "markdown",
      "metadata": {
        "id": "ZUp5AXgE5TBw"
      },
      "source": [
        "### 訓練模型"
      ]
    },
    {
      "cell_type": "code",
      "metadata": {
        "id": "AaMiJHOL5a3a"
      },
      "source": [
        "!python train.py --experiment_dir=experiment --experiment_id=1 --batch_size=16 --lr=0.001 --epoch=40 --sample_steps=50 --schedule=20 --L1_penalty=100 --Lconst_penalty=15"
      ],
      "execution_count": null,
      "outputs": []
    },
    {
      "cell_type": "markdown",
      "metadata": {
        "id": "SRVhNdX55bhB"
      },
      "source": [
        "### 推論 (或稱驗證)"
      ]
    },
    {
      "cell_type": "code",
      "source": [
        "!python infer.py --model_dir=experiment/checkpoint/experiment_1_batch_16 --batch_size=16 --source_obj=experiment/data/val/val.obj --embedding_ids=1 --save_dir=experiment/infer_1"
      ],
      "metadata": {
        "id": "Inz-t0VdqpW8"
      },
      "execution_count": null,
      "outputs": []
    },
    {
      "cell_type": "markdown",
      "source": [
        "### ttf-downsize"
      ],
      "metadata": {
        "id": "NLCirDjWdiXf"
      }
    },
    {
      "cell_type": "code",
      "source": [
        "def generate_ttf_downsize(self):\n",
        "  from google.colab import files\n",
        "  import os\n",
        "  txt_data = ''\n",
        "  with open(f'./charset/{txt_file_name}', 'r', encoding='utf-8') as f:\n",
        "    txt_data = f.read()\n",
        "  glyphs = []\n",
        "  for i in txt_data:\n",
        "    if not i in glyphs:\n",
        "      glyphs.append(i)\n",
        "  codes = []\n",
        "  for i in glyphs:\n",
        "    unicode = hex(ord(i))[2:]\n",
        "    while len(unicode) < 4:\n",
        "      unicode = '0' + unicode\n",
        "    codes.append('U+'+unicode)\n",
        "  with open('codes.txt', 'w', encoding='utf-8') as f:\n",
        "    f.write('\\n'.join(codes))\n",
        "  cmd = 'pyftsubset \\\"%s\\\" --output-file=\\\"%s\\\" --unicodes-file=\\\"%s\\\"' % (\n",
        "      os.path.join('./font', dd.value),\n",
        "      os.path.join('./font', dd.value.replace('.ttf', '-downsize.ttf')),\n",
        "      os.path.join(os.getcwd(), 'codes.txt')\n",
        "  )\n",
        "  os.system(cmd)\n",
        "  files.download(os.path.join('./font', dd.value.replace('.ttf', '-downsize.ttf')))"
      ],
      "metadata": {
        "id": "m3sZVpUZVOpA"
      },
      "execution_count": null,
      "outputs": []
    },
    {
      "cell_type": "markdown",
      "source": [
        "Generate txt file"
      ],
      "metadata": {
        "id": "Q5ojd7x7RCq1"
      }
    },
    {
      "cell_type": "code",
      "source": [
        "import json\n",
        "cjk = json.load(open(\"./charset/cjk.json\"))\n",
        "output = cjk[\"twVal\"]\n",
        "txt_file_name = \"val.txt\"\n",
        "with open(f'./charset/{txt_file_name}', 'w', encoding='utf-8') as f:\n",
        "  for word in output:\n",
        "    f.write(word)"
      ],
      "metadata": {
        "id": "_27sZIIJd0P-"
      },
      "execution_count": null,
      "outputs": []
    },
    {
      "cell_type": "markdown",
      "source": [
        "Install Dependencies"
      ],
      "metadata": {
        "id": "t7altn4WdEna"
      }
    },
    {
      "cell_type": "code",
      "source": [
        "!pip install fonttools"
      ],
      "metadata": {
        "id": "1RWCUIondGbj"
      },
      "execution_count": null,
      "outputs": []
    },
    {
      "cell_type": "markdown",
      "source": [
        "Upload ttf file (Optional section that it could takes few minutes)"
      ],
      "metadata": {
        "id": "_d9FPmysdNos"
      }
    },
    {
      "cell_type": "code",
      "source": [
        "# # ctrl + A and ctrl + K + U to uncomment this scetion\n",
        "# from google.colab import files\n",
        "# os.chdir('font')\n",
        "# ttf_file = files.upload()\n",
        "# ttf_file_name = list(ttf_file.keys())[0]\n",
        "# os.chdir(\"..\")"
      ],
      "metadata": {
        "id": "1n6oSFQbdQL8"
      },
      "execution_count": null,
      "outputs": []
    },
    {
      "cell_type": "markdown",
      "source": [
        "Select font from 雲端內 ct2022s/zi2zi/font 資料夾"
      ],
      "metadata": {
        "id": "4dr_I4BodLJG"
      }
    },
    {
      "cell_type": "code",
      "source": [
        "import ipywidgets as widgets\n",
        "import os\n",
        "\n",
        "dropdown_list = ['......'] + [f for f in os.listdir('./font') if f.split('.')[-1] == 'ttf']\n",
        "\n",
        "dd = widgets.Dropdown(options=dropdown_list, value='......')\n",
        "\n",
        "display(dd)\n",
        "dd.observe(generate_ttf_downsize, names= 'value')"
      ],
      "metadata": {
        "id": "XLgn3PKJdLlu"
      },
      "execution_count": null,
      "outputs": []
    },
    {
      "cell_type": "markdown",
      "metadata": {
        "id": "_IqJsy3c5ker"
      },
      "source": [
        "#Acknowledgements\n",
        "原作者:\n",
        "* [zi2zi](https://github.com/kaonashi-tyc/zi2zi) by kaonashi-tyc(original author)\n",
        "\n",
        "Code derived and rehashed from:\n",
        "\n",
        "* [pix2pix-tensorflow](https://github.com/yenchenlin/pix2pix-tensorflow) by yenchenlin\n",
        "* [Domain Transfer Network](https://github.com/yunjey/domain-transfer-network) by yunjey\n",
        "* [ac-gan](https://github.com/buriburisuri/ac-gan) by buriburisuri\n",
        "* [dc-gan](https://github.com/carpedm20/DCGAN-tensorflow) by carpedm20\n",
        "* [origianl pix2pix torch code](https://github.com/phillipi/pix2pix) by phillipi"
      ]
    }
  ]
}