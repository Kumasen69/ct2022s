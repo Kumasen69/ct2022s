{
 "cells": [
  {
   "cell_type": "code",
   "execution_count": 6,
   "id": "33562698-50f9-4652-b9e3-fdc6947276c7",
   "metadata": {},
   "outputs": [
    {
     "ename": "SyntaxError",
     "evalue": "invalid syntax (Temp/ipykernel_5656/2080818546.py, line 1)",
     "output_type": "error",
     "traceback": [
      "\u001b[1;36m  File \u001b[1;32m\"C:\\Users\\KMS_69\\AppData\\Local\\Temp/ipykernel_5656/2080818546.py\"\u001b[1;36m, line \u001b[1;32m1\u001b[0m\n\u001b[1;33m    python font2img.py --src_font=font/'source font' --dst_font=font/'Target font' --charset=CN_T  --sample_count=1000 --sample_dir='Your sample dir' --label=0  --filter=1 --shuffle=1\u001b[0m\n\u001b[1;37m           ^\u001b[0m\n\u001b[1;31mSyntaxError\u001b[0m\u001b[1;31m:\u001b[0m invalid syntax\n"
     ]
    }
   ],
   "source": [
    "python font2img.py --src_font=font/'source font' --dst_font=font/'Target font' --charset=CN_T  --sample_count=1000 --sample_dir='Your sample dir' --label=0  --filter=1 --shuffle=1\n"
   ]
  },
  {
   "cell_type": "code",
   "execution_count": 4,
   "id": "33a1fd9c-f39b-4e14-be5f-a401b4f14bc4",
   "metadata": {},
   "outputs": [
    {
     "data": {
      "text/plain": [
       "False"
      ]
     },
     "execution_count": 4,
     "metadata": {},
     "output_type": "execute_result"
    }
   ],
   "source": [
    "tensorflow.test.is_gpu_available()"
   ]
  },
  {
   "cell_type": "code",
   "execution_count": null,
   "id": "7f988198-802c-458f-a16e-5e0356450bdb",
   "metadata": {},
   "outputs": [],
   "source": []
  }
 ],
 "metadata": {
  "kernelspec": {
   "display_name": "Python 3 (ipykernel)",
   "language": "python",
   "name": "python3"
  },
  "language_info": {
   "codemirror_mode": {
    "name": "ipython",
    "version": 3
   },
   "file_extension": ".py",
   "mimetype": "text/x-python",
   "name": "python",
   "nbconvert_exporter": "python",
   "pygments_lexer": "ipython3",
   "version": "3.9.7"
  }
 },
 "nbformat": 4,
 "nbformat_minor": 5
}
