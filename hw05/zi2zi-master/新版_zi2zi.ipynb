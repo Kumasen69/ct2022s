{
 "cells": [
  {
   "cell_type": "markdown",
   "metadata": {
    "id": "nTps7Ej1w80x"
   },
   "source": [
    "zi2zi: Master Chinese Calligraphy with Conditional Adversarial Networks\n"
   ]
  },
  {
   "cell_type": "markdown",
   "metadata": {
    "id": "-OzPBAJHTqiu"
   },
   "source": [
    "### 步驟一與步驟二"
   ]
  },
  {
   "cell_type": "markdown",
   "metadata": {
    "id": "dVrVQZw82t97"
   },
   "source": [
    "#### 連接 google drive 並確認 workspace."
   ]
  },
  {
   "cell_type": "code",
   "execution_count": null,
   "metadata": {
    "id": "FaPw3TavwTBv"
   },
   "outputs": [],
   "source": [
    "import os\n",
    "from google.colab import drive\n",
    "drive.mount('/content/drive')\n",
    "\n",
    "workspace = 'ct2022s'\n",
    "\n",
    "# Try to aceess your workspace, or create it.\n",
    "try:\n",
    "  os.chdir(os.path.join('/content/drive/MyDrive/', workspace))\n",
    "except:\n",
    "  os.mkdir(os.path.join('/content/drive/MyDrive/', workspace))\n",
    "  os.chdir(os.path.join('/content/drive/MyDrive/', workspace))"
   ]
  },
  {
   "cell_type": "markdown",
   "metadata": {
    "id": "bc3EeQ_qOIxv"
   },
   "source": [
    "#### 確認環境並下載 zi2zi 專案📡"
   ]
  },
  {
   "cell_type": "code",
   "execution_count": 1,
   "metadata": {
    "id": "0oA-eCwtEM8D"
   },
   "outputs": [
    {
     "name": "stderr",
     "output_type": "stream",
     "text": [
      "UsageError: Line magic function `%tensorflow_version` not found.\n"
     ]
    }
   ],
   "source": [
    "%tensorflow_version 1.x\n",
    "!pip install scipy==1.2.1\n",
    "!git clone https://github.com/t110598009/zi2zi.git\n",
    "# Acess zi2zi\n",
    "os.chdir('zi2zi')"
   ]
  },
  {
   "cell_type": "markdown",
   "metadata": {
    "id": "LhNl9fyE2mY_",
    "jp-MarkdownHeadingCollapsed": true,
    "tags": []
   },
   "source": [
    "### 步驟三: 訓練前處理 (產生資料)\n",
    "\n",
    "To avoid IO bottleneck, preprocessing is necessary to pickle your data into binary and persist in memory during training.\n",
    "\n",
    "First run the below command to get the font images:  \n",
    "```\n",
    "python font2img.py --src_font=font/'source font' --dst_font=font/'Target font' --charset=CN_T  --sample_count=1000 --sample_dir='Your sample dir' --label=0  --filter=1 --shuffle=1\n",
    "```"
   ]
  },
  {
   "cell_type": "markdown",
   "metadata": {
    "id": "fq_YoF-DyaS7"
   },
   "source": [
    "#### 建立欲訓練或驗證的圖片"
   ]
  },
  {
   "cell_type": "code",
   "execution_count": null,
   "metadata": {
    "id": "le88m-g60GNH"
   },
   "outputs": [],
   "source": [
    "# 建立 sample 資料夾\n",
    "!mkdir image_train\n",
    "!mkdir image_val"
   ]
  },
  {
   "cell_type": "code",
   "execution_count": null,
   "metadata": {
    "id": "LygvPmgu2zxt"
   },
   "outputs": [],
   "source": [
    "!python font2img.py --src_font=font/NotoSansTC-Black.otf --dst_font=font/setofont.ttf --charset=TWTrain  --sample_count=1000 --sample_dir=image_train --label=1 --filter=1 --shuffle=1\n",
    "!python font2img.py --src_font=font/NotoSansTC-Black.otf --dst_font=font/setofont.ttf --charset=TWVal  --sample_count=670 --sample_dir=image_val --label=1 --filter=1 --shuffle=0\n"
   ]
  },
  {
   "cell_type": "markdown",
   "metadata": {
    "id": "NY4UKL1K3Sae"
   },
   "source": [
    "#### 建立訓練、驗證資料 object\n",
    "After obtaining all images, run package.py to pickle the images and their corresponding labels into binary format:\n",
    "\n",
    "跑完後會得到 train.obj and val.obj 在 save_dir 資料夾。"
   ]
  },
  {
   "cell_type": "code",
   "execution_count": null,
   "metadata": {
    "id": "aWFYOnclJ3EV"
   },
   "outputs": [],
   "source": [
    "!python package.py --dir=image_train --save_dir=experiment/data --split_ratio=0.1"
   ]
  },
  {
   "cell_type": "code",
   "execution_count": null,
   "metadata": {
    "id": "yLGHoHzn5VDT"
   },
   "outputs": [],
   "source": [
    "!python package.py --dir=image_val --save_dir=experiment/data/val --split_ratio=1"
   ]
  },
  {
   "cell_type": "markdown",
   "metadata": {
    "id": "ZUp5AXgE5TBw"
   },
   "source": [
    "### 訓練模型"
   ]
  },
  {
   "cell_type": "code",
   "execution_count": null,
   "metadata": {
    "id": "AaMiJHOL5a3a"
   },
   "outputs": [],
   "source": [
    "!python train.py --experiment_dir=experiment --experiment_id=1 --batch_size=16 --lr=0.001 --epoch=40 --sample_steps=50 --schedule=20 --L1_penalty=100 --Lconst_penalty=15"
   ]
  },
  {
   "cell_type": "markdown",
   "metadata": {
    "id": "SRVhNdX55bhB"
   },
   "source": [
    "### 推論 (或稱驗證)"
   ]
  },
  {
   "cell_type": "code",
   "execution_count": null,
   "metadata": {
    "id": "Inz-t0VdqpW8"
   },
   "outputs": [],
   "source": [
    "!python infer.py --model_dir=experiment/checkpoint/experiment_1_batch_16 --batch_size=16 --source_obj=experiment/data/val/val.obj --embedding_ids=1 --save_dir=experiment/infer_1"
   ]
  },
  {
   "cell_type": "markdown",
   "metadata": {
    "id": "NLCirDjWdiXf"
   },
   "source": [
    "### ttf-downsize"
   ]
  },
  {
   "cell_type": "code",
   "execution_count": null,
   "metadata": {
    "id": "m3sZVpUZVOpA"
   },
   "outputs": [],
   "source": [
    "def generate_ttf_downsize(self):\n",
    "  from google.colab import files\n",
    "  import os\n",
    "  txt_data = ''\n",
    "  with open(f'./charset/{txt_file_name}', 'r', encoding='utf-8') as f:\n",
    "    txt_data = f.read()\n",
    "  glyphs = []\n",
    "  for i in txt_data:\n",
    "    if not i in glyphs:\n",
    "      glyphs.append(i)\n",
    "  codes = []\n",
    "  for i in glyphs:\n",
    "    unicode = hex(ord(i))[2:]\n",
    "    while len(unicode) < 4:\n",
    "      unicode = '0' + unicode\n",
    "    codes.append('U+'+unicode)\n",
    "  with open('codes.txt', 'w', encoding='utf-8') as f:\n",
    "    f.write('\\n'.join(codes))\n",
    "  cmd = 'pyftsubset \\\"%s\\\" --output-file=\\\"%s\\\" --unicodes-file=\\\"%s\\\"' % (\n",
    "      os.path.join('./font', dd.value),\n",
    "      os.path.join('./font', dd.value.replace('.ttf', '-downsize.ttf')),\n",
    "      os.path.join(os.getcwd(), 'codes.txt')\n",
    "  )\n",
    "  os.system(cmd)\n",
    "  files.download(os.path.join('./font', dd.value.replace('.ttf', '-downsize.ttf')))"
   ]
  },
  {
   "cell_type": "markdown",
   "metadata": {
    "id": "Q5ojd7x7RCq1"
   },
   "source": [
    "Generate txt file"
   ]
  },
  {
   "cell_type": "code",
   "execution_count": null,
   "metadata": {
    "id": "_27sZIIJd0P-"
   },
   "outputs": [],
   "source": [
    "import json\n",
    "cjk = json.load(open(\"./charset/cjk.json\"))\n",
    "output = cjk[\"twVal\"]\n",
    "txt_file_name = \"val.txt\"\n",
    "with open(f'./charset/{txt_file_name}', 'w', encoding='utf-8') as f:\n",
    "  for word in output:\n",
    "    f.write(word)"
   ]
  },
  {
   "cell_type": "markdown",
   "metadata": {
    "id": "t7altn4WdEna"
   },
   "source": [
    "Install Dependencies"
   ]
  },
  {
   "cell_type": "code",
   "execution_count": null,
   "metadata": {
    "id": "1RWCUIondGbj"
   },
   "outputs": [],
   "source": [
    "!pip install fonttools"
   ]
  },
  {
   "cell_type": "markdown",
   "metadata": {
    "id": "_d9FPmysdNos"
   },
   "source": [
    "Upload ttf file (Optional section that it could takes few minutes)"
   ]
  },
  {
   "cell_type": "code",
   "execution_count": null,
   "metadata": {
    "id": "1n6oSFQbdQL8"
   },
   "outputs": [],
   "source": [
    "# # ctrl + A and ctrl + K + U to uncomment this scetion\n",
    "# from google.colab import files\n",
    "# os.chdir('font')\n",
    "# ttf_file = files.upload()\n",
    "# ttf_file_name = list(ttf_file.keys())[0]\n",
    "# os.chdir(\"..\")"
   ]
  },
  {
   "cell_type": "markdown",
   "metadata": {
    "id": "4dr_I4BodLJG"
   },
   "source": [
    "Select font from 雲端內 ct2022s/zi2zi/font 資料夾"
   ]
  },
  {
   "cell_type": "code",
   "execution_count": null,
   "metadata": {
    "id": "XLgn3PKJdLlu"
   },
   "outputs": [],
   "source": [
    "import ipywidgets as widgets\n",
    "import os\n",
    "\n",
    "dropdown_list = ['......'] + [f for f in os.listdir('./font') if f.split('.')[-1] == 'ttf']\n",
    "\n",
    "dd = widgets.Dropdown(options=dropdown_list, value='......')\n",
    "\n",
    "display(dd)\n",
    "dd.observe(generate_ttf_downsize, names= 'value')"
   ]
  },
  {
   "cell_type": "markdown",
   "metadata": {
    "id": "_IqJsy3c5ker"
   },
   "source": [
    "#Acknowledgements\n",
    "原作者:\n",
    "* [zi2zi](https://github.com/kaonashi-tyc/zi2zi) by kaonashi-tyc(original author)\n",
    "\n",
    "Code derived and rehashed from:\n",
    "\n",
    "* [pix2pix-tensorflow](https://github.com/yenchenlin/pix2pix-tensorflow) by yenchenlin\n",
    "* [Domain Transfer Network](https://github.com/yunjey/domain-transfer-network) by yunjey\n",
    "* [ac-gan](https://github.com/buriburisuri/ac-gan) by buriburisuri\n",
    "* [dc-gan](https://github.com/carpedm20/DCGAN-tensorflow) by carpedm20\n",
    "* [origianl pix2pix torch code](https://github.com/phillipi/pix2pix) by phillipi"
   ]
  }
 ],
 "metadata": {
  "colab": {
   "collapsed_sections": [
    "-OzPBAJHTqiu"
   ],
   "name": "新版 zi2zi.ipynb",
   "provenance": [],
   "toc_visible": true
  },
  "kernelspec": {
   "display_name": "Python 3 (ipykernel)",
   "language": "python",
   "name": "python3"
  },
  "language_info": {
   "codemirror_mode": {
    "name": "ipython",
    "version": 3
   },
   "file_extension": ".py",
   "mimetype": "text/x-python",
   "name": "python",
   "nbconvert_exporter": "python",
   "pygments_lexer": "ipython3",
   "version": "3.9.7"
  }
 },
 "nbformat": 4,
 "nbformat_minor": 4
}
